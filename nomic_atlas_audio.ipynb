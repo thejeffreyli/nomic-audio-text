{
  "nbformat": 4,
  "nbformat_minor": 0,
  "metadata": {
    "colab": {
      "provenance": [],
      "toc_visible": true
    },
    "kernelspec": {
      "name": "python3",
      "display_name": "Python 3"
    },
    "language_info": {
      "name": "python"
    }
  },
  "cells": [
    {
      "cell_type": "markdown",
      "source": [
        "# Initialize the Nomic API and Processor"
      ],
      "metadata": {
        "id": "JV1ihbeP6FAz"
      }
    },
    {
      "cell_type": "code",
      "source": [
        "!pip install datasets evaluate transformers[sentencepiece] &> /dev/null\n",
        "!pip install nomic &> /dev/null"
      ],
      "metadata": {
        "id": "LyBl2LyHb2WH"
      },
      "execution_count": 1,
      "outputs": []
    },
    {
      "cell_type": "code",
      "source": [
        "!nomic login nk-txKrSg8mGV7UtWdxNJ8YZ6H3auobZpzTBYWQHo3pzEw"
      ],
      "metadata": {
        "id": "F3xk_sHBhB8b"
      },
      "execution_count": 2,
      "outputs": []
    },
    {
      "cell_type": "code",
      "source": [
        "import os"
      ],
      "metadata": {
        "id": "qXftO3AFAXLA"
      },
      "execution_count": 3,
      "outputs": []
    },
    {
      "cell_type": "code",
      "source": [
        "!pip install datasets[audio] librosa transformers\n",
        "import librosa\n",
        "import pandas as pd\n",
        "from datasets import load_dataset\n",
        "from transformers import ClapAudioModelWithProjection, ClapProcessor\n",
        "from nomic import atlas\n",
        "import numpy as np\n",
        "\n",
        "model = ClapAudioModelWithProjection.from_pretrained(\"laion/clap-htsat-fused\")\n",
        "processor = ClapProcessor.from_pretrained(\"laion/clap-htsat-fused\")"
      ],
      "metadata": {
        "colab": {
          "base_uri": "https://localhost:8080/"
        },
        "id": "qlhiimeF9a0h",
        "outputId": "e2d7e189-4980-4908-b581-6a79e12a3a96"
      },
      "execution_count": 4,
      "outputs": [
        {
          "output_type": "stream",
          "name": "stdout",
          "text": [
            "Requirement already satisfied: datasets[audio] in /usr/local/lib/python3.10/dist-packages (2.17.0)\n",
            "Requirement already satisfied: librosa in /usr/local/lib/python3.10/dist-packages (0.10.1)\n",
            "Requirement already satisfied: transformers in /usr/local/lib/python3.10/dist-packages (4.35.2)\n",
            "Requirement already satisfied: filelock in /usr/local/lib/python3.10/dist-packages (from datasets[audio]) (3.13.1)\n",
            "Requirement already satisfied: numpy>=1.17 in /usr/local/lib/python3.10/dist-packages (from datasets[audio]) (1.25.2)\n",
            "Requirement already satisfied: pyarrow>=12.0.0 in /usr/local/lib/python3.10/dist-packages (from datasets[audio]) (15.0.0)\n",
            "Requirement already satisfied: pyarrow-hotfix in /usr/local/lib/python3.10/dist-packages (from datasets[audio]) (0.6)\n",
            "Requirement already satisfied: dill<0.3.9,>=0.3.0 in /usr/local/lib/python3.10/dist-packages (from datasets[audio]) (0.3.8)\n",
            "Requirement already satisfied: pandas in /usr/local/lib/python3.10/dist-packages (from datasets[audio]) (1.5.3)\n",
            "Requirement already satisfied: requests>=2.19.0 in /usr/local/lib/python3.10/dist-packages (from datasets[audio]) (2.31.0)\n",
            "Requirement already satisfied: tqdm>=4.62.1 in /usr/local/lib/python3.10/dist-packages (from datasets[audio]) (4.66.2)\n",
            "Requirement already satisfied: xxhash in /usr/local/lib/python3.10/dist-packages (from datasets[audio]) (3.4.1)\n",
            "Requirement already satisfied: multiprocess in /usr/local/lib/python3.10/dist-packages (from datasets[audio]) (0.70.16)\n",
            "Requirement already satisfied: fsspec[http]<=2023.10.0,>=2023.1.0 in /usr/local/lib/python3.10/dist-packages (from datasets[audio]) (2023.6.0)\n",
            "Requirement already satisfied: aiohttp in /usr/local/lib/python3.10/dist-packages (from datasets[audio]) (3.9.3)\n",
            "Requirement already satisfied: huggingface-hub>=0.19.4 in /usr/local/lib/python3.10/dist-packages (from datasets[audio]) (0.20.3)\n",
            "Requirement already satisfied: packaging in /usr/local/lib/python3.10/dist-packages (from datasets[audio]) (23.2)\n",
            "Requirement already satisfied: pyyaml>=5.1 in /usr/local/lib/python3.10/dist-packages (from datasets[audio]) (6.0.1)\n",
            "Requirement already satisfied: soundfile>=0.12.1 in /usr/local/lib/python3.10/dist-packages (from datasets[audio]) (0.12.1)\n",
            "Requirement already satisfied: audioread>=2.1.9 in /usr/local/lib/python3.10/dist-packages (from librosa) (3.0.1)\n",
            "Requirement already satisfied: scipy>=1.2.0 in /usr/local/lib/python3.10/dist-packages (from librosa) (1.11.4)\n",
            "Requirement already satisfied: scikit-learn>=0.20.0 in /usr/local/lib/python3.10/dist-packages (from librosa) (1.2.2)\n",
            "Requirement already satisfied: joblib>=0.14 in /usr/local/lib/python3.10/dist-packages (from librosa) (1.3.2)\n",
            "Requirement already satisfied: decorator>=4.3.0 in /usr/local/lib/python3.10/dist-packages (from librosa) (4.4.2)\n",
            "Requirement already satisfied: numba>=0.51.0 in /usr/local/lib/python3.10/dist-packages (from librosa) (0.58.1)\n",
            "Requirement already satisfied: pooch>=1.0 in /usr/local/lib/python3.10/dist-packages (from librosa) (1.8.0)\n",
            "Requirement already satisfied: soxr>=0.3.2 in /usr/local/lib/python3.10/dist-packages (from librosa) (0.3.7)\n",
            "Requirement already satisfied: typing-extensions>=4.1.1 in /usr/local/lib/python3.10/dist-packages (from librosa) (4.9.0)\n",
            "Requirement already satisfied: lazy-loader>=0.1 in /usr/local/lib/python3.10/dist-packages (from librosa) (0.3)\n",
            "Requirement already satisfied: msgpack>=1.0 in /usr/local/lib/python3.10/dist-packages (from librosa) (1.0.7)\n",
            "Requirement already satisfied: regex!=2019.12.17 in /usr/local/lib/python3.10/dist-packages (from transformers) (2023.12.25)\n",
            "Requirement already satisfied: tokenizers<0.19,>=0.14 in /usr/local/lib/python3.10/dist-packages (from transformers) (0.15.2)\n",
            "Requirement already satisfied: safetensors>=0.3.1 in /usr/local/lib/python3.10/dist-packages (from transformers) (0.4.2)\n",
            "Requirement already satisfied: aiosignal>=1.1.2 in /usr/local/lib/python3.10/dist-packages (from aiohttp->datasets[audio]) (1.3.1)\n",
            "Requirement already satisfied: attrs>=17.3.0 in /usr/local/lib/python3.10/dist-packages (from aiohttp->datasets[audio]) (23.2.0)\n",
            "Requirement already satisfied: frozenlist>=1.1.1 in /usr/local/lib/python3.10/dist-packages (from aiohttp->datasets[audio]) (1.4.1)\n",
            "Requirement already satisfied: multidict<7.0,>=4.5 in /usr/local/lib/python3.10/dist-packages (from aiohttp->datasets[audio]) (6.0.5)\n",
            "Requirement already satisfied: yarl<2.0,>=1.0 in /usr/local/lib/python3.10/dist-packages (from aiohttp->datasets[audio]) (1.9.4)\n",
            "Requirement already satisfied: async-timeout<5.0,>=4.0 in /usr/local/lib/python3.10/dist-packages (from aiohttp->datasets[audio]) (4.0.3)\n",
            "Requirement already satisfied: llvmlite<0.42,>=0.41.0dev0 in /usr/local/lib/python3.10/dist-packages (from numba>=0.51.0->librosa) (0.41.1)\n",
            "Requirement already satisfied: platformdirs>=2.5.0 in /usr/local/lib/python3.10/dist-packages (from pooch>=1.0->librosa) (4.2.0)\n",
            "Requirement already satisfied: charset-normalizer<4,>=2 in /usr/local/lib/python3.10/dist-packages (from requests>=2.19.0->datasets[audio]) (3.3.2)\n",
            "Requirement already satisfied: idna<4,>=2.5 in /usr/local/lib/python3.10/dist-packages (from requests>=2.19.0->datasets[audio]) (3.6)\n",
            "Requirement already satisfied: urllib3<3,>=1.21.1 in /usr/local/lib/python3.10/dist-packages (from requests>=2.19.0->datasets[audio]) (2.0.7)\n",
            "Requirement already satisfied: certifi>=2017.4.17 in /usr/local/lib/python3.10/dist-packages (from requests>=2.19.0->datasets[audio]) (2024.2.2)\n",
            "Requirement already satisfied: threadpoolctl>=2.0.0 in /usr/local/lib/python3.10/dist-packages (from scikit-learn>=0.20.0->librosa) (3.2.0)\n",
            "Requirement already satisfied: cffi>=1.0 in /usr/local/lib/python3.10/dist-packages (from soundfile>=0.12.1->datasets[audio]) (1.16.0)\n",
            "Requirement already satisfied: python-dateutil>=2.8.1 in /usr/local/lib/python3.10/dist-packages (from pandas->datasets[audio]) (2.8.2)\n",
            "Requirement already satisfied: pytz>=2020.1 in /usr/local/lib/python3.10/dist-packages (from pandas->datasets[audio]) (2023.4)\n",
            "Requirement already satisfied: pycparser in /usr/local/lib/python3.10/dist-packages (from cffi>=1.0->soundfile>=0.12.1->datasets[audio]) (2.21)\n",
            "Requirement already satisfied: six>=1.5 in /usr/local/lib/python3.10/dist-packages (from python-dateutil>=2.8.1->pandas->datasets[audio]) (1.16.0)\n"
          ]
        },
        {
          "output_type": "stream",
          "name": "stderr",
          "text": [
            "/usr/local/lib/python3.10/dist-packages/huggingface_hub/utils/_token.py:88: UserWarning: \n",
            "The secret `HF_TOKEN` does not exist in your Colab secrets.\n",
            "To authenticate with the Hugging Face Hub, create a token in your settings tab (https://huggingface.co/settings/tokens), set it as secret in your Google Colab and restart your session.\n",
            "You will be able to reuse this secret in all of your notebooks.\n",
            "Please note that authentication is recommended but still optional to access public models or datasets.\n",
            "  warnings.warn(\n"
          ]
        }
      ]
    },
    {
      "cell_type": "markdown",
      "source": [
        "# Data Acquisition"
      ],
      "metadata": {
        "id": "2NgWAM-ug3DW"
      }
    },
    {
      "cell_type": "markdown",
      "source": [
        "## ESC50: ClapAudioWithProjection\n"
      ],
      "metadata": {
        "id": "FivQBYb5lf76"
      }
    },
    {
      "cell_type": "code",
      "source": [
        "import numpy as np"
      ],
      "metadata": {
        "id": "5G36ZDJosZ5U"
      },
      "execution_count": 5,
      "outputs": []
    },
    {
      "cell_type": "code",
      "source": [
        "dataset = load_dataset(\"ashraq/esc50\")"
      ],
      "metadata": {
        "colab": {
          "base_uri": "https://localhost:8080/"
        },
        "id": "fCpWgOQKlimh",
        "outputId": "95a76372-54d9-4a47-d390-577318df5198"
      },
      "execution_count": 15,
      "outputs": [
        {
          "output_type": "stream",
          "name": "stderr",
          "text": [
            "/usr/local/lib/python3.10/dist-packages/huggingface_hub/repocard.py:105: UserWarning: Repo card metadata block was not found. Setting CardData to empty.\n",
            "  warnings.warn(\"Repo card metadata block was not found. Setting CardData to empty.\")\n"
          ]
        }
      ]
    },
    {
      "cell_type": "code",
      "source": [
        "# Get the embeddings\n",
        "if (os.path.exists('/content/audio_embeddings.npy')):\n",
        "    audio_embeddings = np.load('/content/audio_embeddings.npy')\n",
        "else:\n",
        "    # Initialize an empty array to store the concatenated arrays\n",
        "    audio_embeddings = np.empty((0, 512))\n",
        "\n",
        "    # Iterate over the dictionaries to concatenate the arrays\n",
        "    for split in dataset.values():\n",
        "        split_audio = split['audio']\n",
        "        for item in split_audio:\n",
        "            audio_sample = item[\"array\"]\n",
        "            inputs = processor(audios=audio_sample, return_tensors=\"pt\")\n",
        "            outputs = model(**inputs)\n",
        "            audio_embeds = outputs.audio_embeds\n",
        "            total_array = np.concatenate((total_array, audio_embeds.detach().numpy().reshape(1, -1)), axis=0)\n",
        "\n",
        "    # Check the shape of the concatenated array\n",
        "    print(\"Shape of the concatenated array:\", audio_embeddings.shape)"
      ],
      "metadata": {
        "id": "baUqBtN3lvYl"
      },
      "execution_count": 7,
      "outputs": []
    },
    {
      "cell_type": "code",
      "source": [
        "# Get the categories\n",
        "if (os.path.exists('/content/categories.txt')):\n",
        "    # Open the text file in read mode\n",
        "    with open(\"/content/categories.txt\", \"r\") as file:\n",
        "        # Read all lines from the file and store them in a list\n",
        "        categories = file.readlines()\n",
        "else:\n",
        "    categories = [dataset['train']['category'][i] for i in range(len(dataset['train']['category']))]"
      ],
      "metadata": {
        "id": "8U0b4HS0-hxk"
      },
      "execution_count": 22,
      "outputs": []
    },
    {
      "cell_type": "code",
      "source": [
        "categories = [line.replace(\"_\", \" \") for line in categories]"
      ],
      "metadata": {
        "id": "GuL2oQEgAsiB"
      },
      "execution_count": 13,
      "outputs": []
    },
    {
      "cell_type": "markdown",
      "source": [
        "## Common Language dataset"
      ],
      "metadata": {
        "id": "ou2ECkil8n4f"
      }
    },
    {
      "cell_type": "code",
      "source": [
        "dataset = load_dataset(\"common_language\", streaming=True)"
      ],
      "metadata": {
        "id": "r4xYL4mhBJbe"
      },
      "execution_count": 9,
      "outputs": []
    },
    {
      "cell_type": "code",
      "source": [
        "langlist = [\n",
        "    \"Arabic\",\n",
        "    \"Basque\",\n",
        "    \"Breton\",\n",
        "    \"Catalan\",\n",
        "    \"Chinese_China\",\n",
        "    \"Chinese_Hongkong\",\n",
        "    \"Chinese_Taiwan\",\n",
        "    \"Chuvash\",\n",
        "    \"Czech\",\n",
        "    \"Dhivehi\",\n",
        "    \"Dutch\",\n",
        "    \"English\",\n",
        "    \"Esperanto\",\n",
        "    \"Estonian\",\n",
        "    \"French\",\n",
        "    \"Frisian\",\n",
        "    \"Georgian\",\n",
        "    \"German\",\n",
        "    \"Greek\",\n",
        "    \"Hakha_Chin\",\n",
        "    \"Indonesian\",\n",
        "    \"Interlingua\",\n",
        "    \"Italian\",\n",
        "    \"Japanese\",\n",
        "    \"Kabyle\",\n",
        "    \"Kinyarwanda\",\n",
        "    \"Kyrgyz\",\n",
        "    \"Latvian\",\n",
        "    \"Maltese\",\n",
        "    \"Mangolian\",\n",
        "    \"Persian\",\n",
        "    \"Polish\",\n",
        "    \"Portuguese\",\n",
        "    \"Romanian\",\n",
        "    \"Romansh_Sursilvan\",\n",
        "    \"Russian\",\n",
        "    \"Sakha\",\n",
        "    \"Slovenian\",\n",
        "    \"Spanish\",\n",
        "    \"Swedish\",\n",
        "    \"Tamil\",\n",
        "    \"Tatar\",\n",
        "    \"Turkish\",\n",
        "    \"Ukranian\",\n",
        "    \"Welsh\",\n",
        "]"
      ],
      "metadata": {
        "id": "V3W11OV-QKtD"
      },
      "execution_count": 10,
      "outputs": []
    },
    {
      "cell_type": "code",
      "source": [
        "# Get Common Language Embedding and Dataset dataframe\n",
        "embed_cl = [] # list of dictionaries\n",
        "embed_cl_arr = [] # list of embeddings\n",
        "categories_cl = [] # list of categories/labels\n",
        "\n",
        "for i in dataset['train']:\n",
        "    tmp_embed_cl = {}\n",
        "    tmp_embed_cl['client_id'] = i['client_id']\n",
        "    tmp_embed_cl['mp3'] = f'''<audio src=\"https://drive.google.com/file/d/1KuBoKtof94dYq97s1Aya2JwzAwSYxJmn/view?usp=drive_link\" type=\"audio/wav\" controls autoplay> </audio>'''\n",
        "    tmp_embed_cl['client_id'] = i['sentence']\n",
        "    tmp_embed_cl['age'] = i['age']\n",
        "    tmp_embed_cl['gender'] = i['gender']\n",
        "    tmp_embed_cl['language'] = langlist[i['language']]\n",
        "    categories_cl.append(langlist[i['language']])\n",
        "\n",
        "    # embeddings\n",
        "    audio_sample = i['audio'][\"array\"]\n",
        "    inputs = processor(audios=audio_sample, return_tensors=\"pt\", sampling_rate=i['audio']['sampling_rate'])\n",
        "    outputs = model(**inputs)\n",
        "    audio_embeds = outputs.audio_embeds\n",
        "    embed_cl_arr.append(audio_embeds.detach().numpy())\n",
        "\n",
        "    # append the dict to the master list\n",
        "    embed_cl.append(tmp_embed_cl)\n",
        "    del tmp_embed_cl, audio_sample, inputs, outputs, audio_embeds\n"
      ],
      "metadata": {
        "id": "ZsoP4-P4E66N"
      },
      "execution_count": 11,
      "outputs": []
    },
    {
      "cell_type": "code",
      "source": [
        "embed_cl_df = pd.DataFrame(embed_cl)"
      ],
      "metadata": {
        "id": "vPyQrCMSWvfW"
      },
      "execution_count": null,
      "outputs": []
    },
    {
      "cell_type": "markdown",
      "source": [
        "# Nomic Atlas Map Generation"
      ],
      "metadata": {
        "id": "YQNguOnYg0ip"
      }
    },
    {
      "cell_type": "markdown",
      "source": [
        "## Map for ESC-50"
      ],
      "metadata": {
        "id": "r9QvK4QoIE2v"
      }
    },
    {
      "cell_type": "code",
      "source": [
        "categories"
      ],
      "metadata": {
        "colab": {
          "base_uri": "https://localhost:8080/"
        },
        "id": "GjCOudwrBL0J",
        "outputId": "b7c7bcd6-0eab-42b5-9f30-67cee878e5b9"
      },
      "execution_count": 18,
      "outputs": [
        {
          "output_type": "execute_result",
          "data": {
            "text/plain": [
              "[\"['dog', 'chirping birds', 'vacuum cleaner', 'vacuum cleaner', 'thunderstorm', 'thunderstorm', 'door wood knock', 'can opening', 'crow', 'door wood knock', 'door wood knock', 'clapping', 'clapping', 'clapping', 'dog', 'clapping', 'thunderstorm', 'fireworks', 'fireworks', 'fireworks', 'fireworks', 'clapping', 'clapping', 'clapping', 'chainsaw', 'airplane', 'mouse click', 'pouring water', 'train', 'sheep', 'water drops', 'water drops', 'water drops', 'church bells', 'church bells', 'clock alarm', 'keyboard typing', 'wind', 'clock alarm', 'footsteps', 'footsteps', 'footsteps', 'footsteps', 'footsteps', 'footsteps', 'frog', 'frog', 'fireworks', 'fireworks', 'cow', 'water drops', 'brushing teeth', 'brushing teeth', 'car horn', 'crackling fire', 'helicopter', 'helicopter', 'helicopter', 'helicopter', 'helicopter', 'helicopter', 'drinking sipping', 'rain', 'crackling fire', 'insects', 'crackling fire', 'crackling fire', 'crackling fire', 'laughing', 'frog', 'hen', 'hen', 'helicopter', 'helicopter', 'engine', 'engine', 'breathing', 'mouse click', 'crying baby', 'frog', 'frog', 'frog', 'hand saw', 'car horn', 'coughing', 'coughing', 'insects', 'sheep', 'sheep', 'vacuum cleaner', 'vacuum cleaner', 'vacuum cleaner', 'chainsaw', 'chainsaw', 'chainsaw', 'glass breaking', 'cow', 'snoring', 'toilet flush', 'pig', 'pig', 'pig', 'pig', 'pig', 'crying baby', 'crying baby', 'crying baby', 'rain', 'church bells', 'washing machine', 'clock tick', 'clock tick', 'footsteps', 'crying baby', 'crying baby', 'church bells', 'engine', 'water drops', 'water drops', 'thunderstorm', 'thunderstorm', 'hand saw', 'washing machine', 'washing machine', 'car horn', 'car horn', 'thunderstorm', 'thunderstorm', 'thunderstorm', 'airplane', 'car horn', 'fireworks', 'fireworks', 'pig', 'pig', 'pig', 'sneezing', 'car horn', 'car horn', 'door wood knock', 'rain', 'rooster', 'washing machine', 'washing machine', 'snoring', 'snoring', 'rooster', 'toilet flush', 'sea waves', 'sea waves', 'car horn', 'wind', 'rain', 'sneezing', 'laughing', 'laughing', 'toilet flush', 'dog', 'dog', 'breathing', 'breathing', 'breathing', 'coughing', 'hen', 'hen', 'siren', 'siren', 'sneezing', 'frog', 'frog', 'dog', 'washing machine', 'washing machine', 'drinking sipping', 'laughing', 'cat', 'cat', 'rooster', 'rooster', 'chirping birds', 'chirping birds', 'clock alarm', 'clock tick', 'laughing', 'laughing', 'breathing', 'breathing', 'breathing', 'breathing', 'airplane', 'drinking sipping', 'chirping birds', 'chirping birds', 'crow', 'crow', 'sea waves', 'sea waves', 'rooster', 'snoring', 'church bells', 'snoring', 'rooster', 'snoring', 'can opening', 'crackling fire', 'clock tick', 'rooster', 'sea waves', 'can opening', 'airplane', 'airplane', 'airplane', 'airplane', 'rooster', 'brushing teeth', 'mouse click', 'chirping birds', 'crackling fire', 'toilet flush', 'hand saw', 'vacuum cleaner', 'insects', 'insects', 'chainsaw', 'chainsaw', 'sneezing', 'sneezing', 'wind', 'wind', 'cat', 'cat', 'cat', 'snoring', 'church bells', 'clock tick', 'washing machine', 'sheep', 'sheep', 'rain', 'engine', 'engine', 'water drops', 'pouring water', 'engine', 'pouring water', 'wind', 'wind', 'wind', 'footsteps', 'toilet flush', 'pouring water', 'pouring water', 'door wood creaks', 'door wood creaks', 'door wood creaks', 'door wood creaks', 'door wood creaks', 'door wood creaks', 'door wood creaks', 'door wood creaks', 'coughing', 'door wood knock', 'coughing', 'snoring', 'airplane', 'keyboard typing', 'coughing', 'toilet flush', 'train', 'train', 'siren', 'sneezing', 'church bells', 'toilet flush', 'chirping birds', 'chirping birds', 'rain', 'crow', 'crow', 'toilet flush', 'drinking sipping', 'rain', 'cat', 'cat', 'church bells', 'clock tick', 'crickets', 'crickets', 'sheep', 'cow', 'coughing', 'can opening', 'brushing teeth', 'brushing teeth', 'crickets', 'sneezing', 'dog', 'hen', 'vacuum cleaner', 'can opening', 'crying baby', 'crying baby', 'keyboard typing', 'pouring water', 'sea waves', 'engine', 'brushing teeth', 'train', 'engine', 'keyboard typing', 'clock tick', 'clock tick', 'coughing', 'rain', 'chainsaw', 'chainsaw', 'train', 'crickets', 'clock alarm', 'pouring water', 'drinking sipping', 'brushing teeth', 'brushing teeth', 'can opening', 'can opening', 'can opening', 'cow', 'cow', 'wind', 'train', 'crackling fire', 'hen', 'clock alarm', 'clock alarm', 'hen', 'hen', 'laughing', 'laughing', 'insects', 'clock alarm', 'crickets', 'crow', 'insects', 'sheep', 'siren', 'siren', 'siren', 'siren', 'siren', 'cow', 'cow', 'cat', 'drinking sipping', 'pouring water', 'vacuum cleaner', 'keyboard typing', 'insects', 'hand saw', 'hand saw', 'insects', 'crickets', 'crickets', 'door wood knock', 'door wood knock', 'cow', 'mouse click', 'sneezing', 'door wood knock', 'keyboard typing', 'glass breaking', 'glass breaking', 'glass breaking', 'mouse click', 'glass breaking', 'glass breaking', 'dog', 'drinking sipping', 'drinking sipping', 'train', 'train', 'sheep', 'glass breaking', 'water drops', 'sea waves', 'sea waves', 'clapping', 'keyboard typing', 'keyboard typing', 'mouse click', 'clock alarm', 'crow', 'crow', 'dog', 'glass breaking', 'mouse click', 'crickets', 'hand saw', 'hand saw', 'hand saw', 'mouse click', 'car horn', 'rooster', 'rain', 'pouring water', 'pouring water', 'pouring water', 'pouring water', 'pouring water', 'pouring water', 'pouring water', 'clock alarm', 'washing machine', 'washing machine', 'washing machine', 'washing machine', 'washing machine', 'drinking sipping', 'drinking sipping', 'sea waves', 'cow', 'cow', 'cow', 'cow', 'cow', 'thunderstorm', 'thunderstorm', 'keyboard typing', 'clock alarm', 'clock alarm', 'cow', 'wind', 'wind', 'airplane', 'engine', 'engine', 'engine', 'crickets', 'vacuum cleaner', 'vacuum cleaner', 'engine', 'engine', 'airplane', 'glass breaking', 'engine', 'engine', 'crying baby', 'crying baby', 'coughing', 'chirping birds', 'chirping birds', 'chirping birds', 'crow', 'crow', 'crow', 'crow', 'crow', 'crow', 'crow', 'crow', 'keyboard typing', 'wind', 'wind', 'wind', 'wind', 'wind', 'sneezing', 'laughing', 'laughing', 'cat', 'cat', 'snoring', 'snoring', 'crickets', 'sheep', 'sheep', 'glass breaking', 'glass breaking', 'door wood knock', 'dog', 'dog', 'snoring', 'snoring', 'dog', 'clock alarm', 'dog', 'snoring', 'fireworks', 'fireworks', 'fireworks', 'fireworks', 'fireworks', 'fireworks', 'fireworks', 'rain', 'cow', 'cow', 'dog', 'sneezing', 'keyboard typing', 'keyboard typing', 'door wood knock', 'door wood knock', 'keyboard typing', 'dog', 'sneezing', 'mouse click', 'sheep', 'sheep', 'sheep', 'clock tick', 'door wood knock', 'door wood knock', 'keyboard typing', 'hen', 'hen', 'washing machine', 'drinking sipping', 'train', 'train', 'train', 'train', 'dog', 'dog', 'chirping birds', 'drinking sipping', 'drinking sipping', 'vacuum cleaner', 'vacuum cleaner', 'door wood creaks', 'coughing', 'water drops', 'sea waves', 'car horn', 'crickets', 'crickets', 'sea waves', 'pouring water', 'drinking sipping', 'clock tick', 'hen', 'car horn', 'car horn', 'sneezing', 'can opening', 'sneezing', 'sneezing', 'clock tick', 'sea waves', 'sea waves', 'sea waves', 'door wood knock', 'hen', 'clock tick', 'door wood knock', 'train', 'train', 'train', 'clock tick', 'hand saw', 'sea waves', 'mouse click', 'car horn', 'water drops', 'water drops', 'water drops', 'clock tick', 'door wood knock', 'glass breaking', 'clock tick', 'vacuum cleaner', 'vacuum cleaner', 'vacuum cleaner', 'vacuum cleaner', 'can opening', 'car horn', 'mouse click', 'mouse click', 'crying baby', 'mouse click', 'mouse click', 'mouse click', 'mouse click', 'sea waves', 'hen', 'pig', 'pig', 'pig', 'pig', 'insects', 'airplane', 'fireworks', 'pig', 'pig', 'pig', 'glass breaking', 'glass breaking', 'glass breaking', 'sheep', 'sheep', 'hand saw', 'crackling fire', 'crackling fire', 'helicopter', 'helicopter', 'helicopter', 'helicopter', 'sheep', 'wind', 'footsteps', 'footsteps', 'footsteps', 'footsteps', 'footsteps', 'footsteps', 'footsteps', 'footsteps', 'glass breaking', 'clapping', 'clapping', 'train', 'crackling fire', 'crackling fire', 'crackling fire', 'crackling fire', 'frog', 'frog', 'frog', 'frog', 'frog', 'helicopter', 'helicopter', 'helicopter', 'helicopter', 'pig', 'thunderstorm', 'thunderstorm', 'thunderstorm', 'thunderstorm', 'thunderstorm', 'thunderstorm', 'car horn', 'siren', 'siren', 'crying baby', 'crying baby', 'chainsaw', 'chainsaw', 'chainsaw', 'chainsaw', 'breathing', 'washing machine', 'hand saw', 'hand saw', 'snoring', 'snoring', 'frog', 'frog', 'frog', 'car horn', 'breathing', 'breathing', 'church bells', 'church bells', 'clapping', 'washing machine', 'hand saw', 'church bells', 'church bells', 'hand saw', 'hand saw', 'laughing', 'laughing', 'laughing', 'clapping', 'crackling fire', 'church bells', 'laughing', 'toilet flush', 'water drops', 'water drops', 'toilet flush', 'crackling fire', 'rooster', 'breathing', 'crying baby', 'crying baby', 'toilet flush', 'chainsaw', 'chainsaw', 'water drops', 'water drops', 'cat', 'cat', 'siren', 'siren', 'toilet flush', 'door wood creaks', 'door wood creaks', 'door wood creaks', 'siren', 'siren', 'siren', 'rooster', 'hen', 'chirping birds', 'chirping birds', 'chirping birds', 'chirping birds', 'toilet flush', 'siren', 'rain', 'rain', 'door wood creaks', 'rain', 'brushing teeth', 'airplane', 'toilet flush', 'hen', 'clapping', 'clapping', 'clapping', 'clapping', 'hen', 'church bells', 'church bells', 'chainsaw', 'chainsaw', 'church bells', 'clock alarm', 'clock alarm', 'engine', 'airplane', 'airplane', 'laughing', 'laughing', 'snoring', 'crying baby', 'crickets', 'can opening', 'can opening', 'rooster', 'rain', 'insects', 'insects', 'insects', 'brushing teeth', 'insects', 'cat', 'cat', 'rain', 'breathing', 'sneezing', 'crickets', 'brushing teeth', 'can opening', 'can opening', 'cat', 'cat', 'hand saw', 'toilet flush', 'breathing', 'crickets', 'coughing', 'brushing teeth', 'can opening', 'toilet flush', 'brushing teeth', 'can opening', 'coughing', 'door wood creaks', 'rain', 'coughing', 'coughing', 'coughing', 'clock tick', 'clock alarm', 'door wood creaks', 'door wood creaks', 'brushing teeth', 'drinking sipping', 'sneezing', 'brushing teeth', 'drinking sipping', 'rooster', 'rooster', 'rooster', 'breathing', 'crickets', 'clock alarm', 'rooster', 'airplane', 'brushing teeth', 'breathing', 'coughing', 'airplane', 'keyboard typing', 'keyboard typing', 'insects', 'insects', 'insects', 'toilet flush', 'brushing teeth', 'brushing teeth', 'door wood creaks', 'door wood creaks', 'hand saw', 'hand saw', 'hand saw', 'frog', 'thunderstorm', 'thunderstorm', 'thunderstorm', 'thunderstorm', 'door wood creaks', 'door wood creaks', 'door wood creaks', 'door wood creaks', 'footsteps', 'footsteps', 'footsteps', 'footsteps', 'crackling fire', 'insects', 'insects', 'crackling fire', 'insects', 'insects', 'laughing', 'rooster', 'breathing', 'pouring water', 'pouring water', 'toilet flush', 'toilet flush', 'laughing', 'insects', 'insects', 'insects', 'insects', 'church bells', 'church bells', 'toilet flush', 'crow', 'brushing teeth', 'breathing', 'breathing', 'engine', 'airplane', 'airplane', 'airplane', 'rooster', 'crow', 'wind', 'wind', 'clock alarm', 'clock alarm', 'toilet flush', 'brushing teeth', 'brushing teeth', 'door wood creaks', 'laughing', 'chainsaw', 'chainsaw', 'chainsaw', 'chainsaw', 'chainsaw', 'chainsaw', 'chainsaw', 'fireworks', 'fireworks', 'fireworks', 'fireworks', 'fireworks', 'engine', 'laughing', 'clock alarm', 'clock alarm', 'crackling fire', 'crow', 'church bells', 'snoring', 'thunderstorm', 'cow', 'cow', 'thunderstorm', 'snoring', 'crow', 'snoring', 'coughing', 'keyboard typing', 'laughing', 'cow', 'cow', 'brushing teeth', 'brushing teeth', 'pouring water', 'crow', 'crow', 'crow', 'engine', 'airplane', 'airplane', 'crow', 'crickets', 'crickets', 'clapping', 'snoring', 'snoring', 'clock alarm', 'clock alarm', 'coughing', 'laughing', 'keyboard typing', 'rain', 'drinking sipping', 'rooster', 'wind', 'wind', 'wind', 'crickets', 'washing machine', 'train', 'train', 'dog', 'train', 'wind', 'rooster', 'clapping', 'train', 'church bells', 'brushing teeth', 'clock alarm', 'sheep', 'sheep', 'sheep', 'sheep', 'drinking sipping', 'rain', 'engine', 'engine', 'train', 'sneezing', 'rain', 'rain', 'pouring water', 'clock tick', 'sneezing', 'coughing', 'sneezing', 'sneezing', 'airplane', 'airplane', 'rain', 'clock tick', 'dog', 'keyboard typing', 'keyboard typing', 'breathing', 'breathing', 'drinking sipping', 'drinking sipping', 'door wood knock', 'sneezing', 'sea waves', 'sea waves', 'thunderstorm', 'thunderstorm', 'rooster', 'drinking sipping', 'coughing', 'car horn', 'pouring water', 'crackling fire', 'crickets', 'engine', 'car horn', 'coughing', 'cat', 'cat', 'cat', 'can opening', 'can opening', 'crackling fire', 'clock alarm', 'sneezing', 'can opening', 'coughing', 'rooster', 'pouring water', 'clapping', 'sneezing', 'clock tick', 'helicopter', 'helicopter', 'helicopter', 'crying baby', 'crying baby', 'crying baby', 'door wood knock', 'breathing', 'coughing', 'coughing', 'snoring', 'washing machine', 'washing machine', 'snoring', 'snoring', 'crying baby', 'crying baby', 'crying baby', 'crying baby', 'crying baby', 'vacuum cleaner', 'vacuum cleaner', 'vacuum cleaner', 'cow', 'cow', 'door wood knock', 'laughing', 'laughing', 'car horn', 'keyboard typing', 'door wood knock', 'pouring water', 'engine', 'keyboard typing', 'helicopter', 'helicopter', 'rooster', 'car horn', 'car horn', 'dog', 'mouse click', 'keyboard typing', 'keyboard typing', 'chirping birds', 'chirping birds', 'chirping birds', 'chirping birds', 'chirping birds', 'sea waves', 'sea waves', 'can opening', 'crickets', 'washing machine', 'washing machine', 'sneezing', 'chirping birds', 'chirping birds', 'water drops', 'rain', 'crackling fire', 'rain', 'train', 'rain', 'dog', 'mouse click', 'mouse click', 'crackling fire', 'vacuum cleaner', 'vacuum cleaner', 'vacuum cleaner', 'vacuum cleaner', 'vacuum cleaner', 'train', 'train', 'water drops', 'cow', 'car horn', 'pouring water', 'crickets', 'rooster', 'dog', 'crickets', 'crickets', 'cow', 'sea waves', 'hen', 'hen', 'hen', 'water drops', 'water drops', 'water drops', 'water drops', 'sea waves', 'clock tick', 'chainsaw', 'breathing', 'breathing', 'water drops', 'water drops', 'sea waves', 'can opening', 'can opening', 'mouse click', 'drinking sipping', 'can opening', 'dog', 'mouse click', 'clock tick', 'clock tick', 'door wood knock', 'mouse click', 'clock tick', 'clock tick', 'hen', 'can opening', 'mouse click', 'fireworks', 'fireworks', 'car horn', 'drinking sipping', 'clapping', 'clapping', 'hen', 'door wood knock', 'dog', 'dog', 'chirping birds', 'clapping', 'door wood knock', 'door wood knock', 'washing machine', 'washing machine', 'mouse click', 'drinking sipping', 'hen', 'hen', 'sea waves', 'hen', 'washing machine', 'airplane', 'sheep', 'sheep', 'sheep', 'clapping', 'clapping', 'glass breaking', 'glass breaking', 'glass breaking', 'glass breaking', 'glass breaking', 'sheep', 'hand saw', 'glass breaking', 'glass breaking', 'glass breaking', 'pig', 'car horn', 'wind', 'wind', 'footsteps', 'fireworks', 'pig', 'pig', 'pig', 'pig', 'pig', 'pig', 'pig', 'engine', 'siren', 'siren', 'siren', 'siren', 'siren', 'siren', 'siren', 'siren', 'crackling fire', 'helicopter', 'helicopter', 'helicopter', 'frog', 'frog', 'frog', 'frog', 'frog', 'frog', 'frog', 'church bells', 'church bells', 'toilet flush', 'toilet flush', 'footsteps', 'footsteps', 'footsteps', 'door wood creaks', 'cat', 'cat', 'cat', 'cat', 'cat', 'hand saw', 'hand saw', 'hand saw', 'hand saw', 'church bells', 'toilet flush', 'church bells', 'hand saw', 'hand saw', 'hand saw', 'siren', 'door wood creaks', 'door wood creaks', 'door wood creaks', 'door wood creaks', 'siren', 'siren', 'footsteps', 'footsteps', 'fireworks', 'fireworks', 'fireworks', 'fireworks', 'fireworks', 'fireworks', 'fireworks', 'fireworks', 'toilet flush', 'cat', 'siren', 'toilet flush', 'thunderstorm', 'thunderstorm', 'thunderstorm', 'thunderstorm', 'church bells', 'church bells', 'helicopter', 'toilet flush', 'toilet flush', 'door wood creaks', 'frog', 'insects', 'pig', 'pig', 'laughing', 'laughing', 'laughing', 'door wood creaks', 'cat', 'cat', 'cat', 'laughing', 'insects', 'toilet flush', 'crow', 'crow', 'church bells', 'toilet flush', 'insects', 'insects', 'wind', 'wind', 'wind', 'wind', 'brushing teeth', 'brushing teeth', 'toilet flush', 'crow', 'vacuum cleaner', 'pig', 'pig', 'church bells', 'church bells', 'chainsaw', 'chainsaw', 'cat', 'cat', 'church bells', 'church bells', 'clock alarm', 'toilet flush', 'coughing', 'brushing teeth', 'brushing teeth', 'coughing', 'frog', 'coughing', 'coughing', 'laughing', 'crow', 'church bells', 'sneezing', 'sneezing', 'thunderstorm', 'coughing', 'sneezing', 'chainsaw', 'chainsaw', 'keyboard typing', 'crow', 'chirping birds', 'chirping birds', 'door wood creaks', 'door wood creaks', 'rain', 'airplane', 'airplane', 'airplane', 'airplane', 'airplane', 'airplane', 'rain', 'cat', 'cat', 'thunderstorm', 'helicopter', 'helicopter', 'rain', 'wind', 'wind', 'wind', 'wind', 'crickets', 'rooster', 'rooster', 'rooster', 'rooster', 'rain', 'laughing', 'crackling fire', 'crackling fire', 'rooster', 'train', 'train', 'train', 'thunderstorm', 'thunderstorm', 'chainsaw', 'chainsaw', 'train', 'train', 'train', 'rain', 'sea waves', 'sea waves', 'sea waves', 'crying baby', 'crying baby', 'crying baby', 'keyboard typing', 'laughing', 'sneezing', 'water drops', 'train', 'pouring water', 'chainsaw', 'chainsaw', 'clock alarm', 'coughing', 'rooster', 'crackling fire', 'crackling fire', 'crackling fire', 'coughing', 'sneezing', 'engine', 'breathing', 'crickets', 'crickets', 'keyboard typing', 'clock alarm', 'pouring water', 'brushing teeth', 'brushing teeth', 'brushing teeth', 'brushing teeth', 'vacuum cleaner', 'vacuum cleaner', 'vacuum cleaner', 'vacuum cleaner', 'vacuum cleaner', 'keyboard typing', 'crow', 'crow', 'water drops', 'cow', 'cow', 'helicopter', 'helicopter', 'helicopter', 'can opening', 'car horn', 'car horn', 'car horn', 'car horn', 'clock tick', 'car horn', 'car horn', 'breathing', 'keyboard typing', 'rain', 'coughing', 'car horn', 'train', 'can opening', 'clock tick', 'snoring', 'rain', 'pouring water', 'clock tick', 'rain', 'crickets', 'crackling fire', 'laughing', 'pouring water', 'keyboard typing', 'keyboard typing', 'clock tick', 'cow', 'cow', 'cow', 'vacuum cleaner', 'door wood knock', 'door wood knock', 'door wood knock', 'insects', 'insects', 'crackling fire', 'crackling fire', 'dog', 'sea waves', 'sea waves', 'chirping birds', 'pouring water', 'rooster', 'snoring', 'snoring', 'dog', 'snoring', 'snoring', 'sneezing', 'dog', 'sneezing', 'crying baby', 'crying baby', 'crying baby', 'keyboard typing', 'sneezing', 'door wood knock', 'pouring water', 'engine', 'engine', 'engine', 'engine', 'engine', 'door wood knock', 'can opening', 'pouring water', 'pouring water', 'chirping birds', 'chirping birds', 'can opening', 'clock tick', 'drinking sipping', 'drinking sipping', 'drinking sipping', 'crow', 'water drops', 'water drops', 'drinking sipping', 'sheep', 'sheep', 'sheep', 'sheep', 'door wood knock', 'clock alarm', 'clapping', 'clapping', 'clapping', 'clapping', 'clapping', 'clapping', 'clapping', 'car horn', 'insects', 'insects', 'snoring', 'clock tick', 'dog', 'mouse click', 'dog', 'helicopter', 'helicopter', 'crickets', 'vacuum cleaner', 'clock tick', 'dog', 'drinking sipping', 'footsteps', 'footsteps', 'mouse click', 'engine', 'sea waves', 'sea waves', 'crickets', 'crickets', 'sheep', 'sheep', 'sheep', 'hen', 'snoring', 'snoring', 'water drops', 'breathing', 'hand saw', 'hand saw', 'hand saw', 'clock alarm', 'footsteps', 'footsteps', 'clock tick', 'dog', 'hen', 'hen', 'mouse click', 'mouse click', 'engine', 'mouse click', 'crickets', 'glass breaking', 'glass breaking', 'glass breaking', 'glass breaking', 'drinking sipping', 'mouse click', 'sea waves', 'mouse click', 'clock alarm', 'glass breaking', 'glass breaking', 'glass breaking', 'hen', 'breathing', 'breathing', 'clapping', 'breathing', 'dog', 'rooster', 'clock alarm', 'clock alarm', 'breathing', 'breathing', 'mouse click', 'drinking sipping', 'door wood knock', 'water drops', 'water drops', 'water drops', 'glass breaking', 'can opening', 'drinking sipping', 'cow', 'cow', 'cow', 'can opening', 'chirping birds', 'can opening', 'washing machine', 'washing machine', 'washing machine', 'washing machine', 'washing machine', 'washing machine', 'washing machine', 'washing machine', 'footsteps', 'footsteps', 'chirping birds', 'chirping birds', 'hen', 'pig', 'hen', 'hen', 'sheep', 'pig', 'pig', 'pig', 'hand saw', 'hand saw', 'airplane', 'hen', 'airplane', 'door wood knock', 'can opening', 'crying baby', 'crying baby', 'siren', 'siren', 'siren', 'siren', 'frog', 'frog', 'frog', 'frog', 'frog', 'frog', 'pig', 'pig', 'pig', 'pig', 'pig', 'pig', 'siren', 'siren', 'siren', 'pig', 'wind', 'pig', 'siren', 'siren', 'washing machine', 'brushing teeth', 'siren', 'crying baby', 'frog', 'frog', 'frog', 'frog', 'toilet flush', 'thunderstorm', 'thunderstorm', 'thunderstorm', 'thunderstorm', 'thunderstorm', 'wind', 'wind', 'siren', 'fireworks', 'fireworks', 'fireworks', 'fireworks', 'fireworks', 'fireworks', 'fireworks', 'fireworks', 'door wood creaks', 'door wood creaks', 'cat', 'chainsaw', 'chainsaw', 'laughing', 'chainsaw', 'cat', 'cat', 'door wood creaks', 'toilet flush', 'cat', 'door wood creaks', 'helicopter', 'helicopter', 'helicopter', 'helicopter', 'helicopter', 'coughing', 'church bells', 'wind', 'wind', 'car horn', 'car horn', 'car horn', 'car horn', 'car horn', 'car horn', 'car horn', 'car horn', 'brushing teeth', 'door wood creaks', 'rain', 'washing machine', 'vacuum cleaner', 'vacuum cleaner', 'vacuum cleaner', 'toilet flush', 'siren', 'coughing', 'brushing teeth', 'chainsaw', 'chainsaw', 'toilet flush', 'crackling fire', 'frog', 'frog', 'door wood creaks', 'sneezing', 'vacuum cleaner', 'thunderstorm', 'door wood creaks', 'rain', 'church bells', 'train', 'train', 'crackling fire', 'crackling fire', 'frog', 'helicopter', 'door wood creaks', 'thunderstorm', 'rain', 'crackling fire', 'crackling fire', 'sneezing', 'rain', 'cow', 'cow', 'cow', 'cow', 'rooster', 'rooster', 'insects', 'insects', 'insects', 'thunderstorm', 'rain', 'train', 'train', 'train', 'insects', 'toilet flush', 'church bells', 'insects', 'insects', 'insects', 'rain', 'church bells', 'crying baby', 'crying baby', 'crying baby', 'crying baby', 'crying baby', 'crying baby', 'crying baby', 'train', 'sheep', 'sheep', 'sheep', 'sheep', 'train', 'train', 'sheep', 'sheep', 'sheep', 'rooster', 'rooster', 'rooster', 'sea waves', 'sea waves', 'church bells', 'church bells', 'clock tick', 'sneezing', 'toilet flush', 'toilet flush', 'sneezing', 'toilet flush', 'cow', 'rain', 'dog', 'dog', 'rain', 'drinking sipping', 'crickets', 'crickets', 'coughing', 'church bells', 'keyboard typing', 'pouring water', 'pouring water', 'helicopter', 'coughing', 'pouring water', 'washing machine', 'washing machine', 'drinking sipping', 'drinking sipping', 'drinking sipping', 'drinking sipping', 'dog', 'clock tick', 'coughing', 'sea waves', 'sea waves', 'clock tick', 'coughing', 'clock tick', 'clapping', 'engine', 'engine', 'crickets', 'clock tick', 'clock alarm', 'coughing', 'clock alarm', 'brushing teeth', 'vacuum cleaner', 'vacuum cleaner', 'clock tick', 'dog', 'pouring water', 'pouring water', 'pouring water', 'sea waves', 'breathing', 'crackling fire', 'crow', 'crow', 'crow', 'crow', 'dog', 'pouring water', 'cat', 'cat', 'crow', 'keyboard typing', 'crickets', 'crickets', 'airplane', 'airplane', 'airplane', 'pouring water', 'crackling fire', 'crackling fire', 'keyboard typing', 'crickets', 'crickets', 'crickets', 'snoring', 'chainsaw', 'chainsaw', 'dog', 'wind', 'wind', 'wind', 'brushing teeth', 'brushing teeth', 'clapping', 'door wood knock', 'door wood knock', 'church bells', 'clock alarm', 'clock alarm', 'mouse click', 'clock tick', 'sea waves', 'sea waves', 'sea waves', 'sneezing', 'sneezing', 'brushing teeth', 'helicopter', 'sneezing', 'glass breaking', 'glass breaking', 'clapping', 'clapping', 'sneezing', 'can opening', 'clapping', 'crow', 'chainsaw', 'keyboard typing', 'keyboard typing', 'keyboard typing', 'mouse click', 'clock alarm', 'mouse click', 'washing machine', 'vacuum cleaner', 'dog', 'engine', 'mouse click', 'breathing', 'mouse click', 'rooster', 'breathing', 'snoring', 'glass breaking', 'glass breaking', 'clock alarm', 'insects', 'snoring', 'clock alarm', 'footsteps', 'breathing', 'footsteps', 'rooster', 'rooster', 'keyboard typing', 'engine', 'breathing', 'door wood knock', 'clock tick', 'snoring', 'snoring', 'airplane', 'snoring', 'can opening', 'mouse click', 'frog', 'can opening', 'washing machine', 'breathing', 'mouse click', 'brushing teeth', 'engine', 'water drops', 'chirping birds', 'chirping birds', 'cow', 'crow', 'laughing', 'laughing', 'footsteps', 'drinking sipping', 'chirping birds', 'chirping birds', 'chirping birds', 'chirping birds', 'chirping birds', 'drinking sipping', 'engine', 'engine', 'engine', 'keyboard typing', 'footsteps', 'hen', 'hen', 'hen', 'can opening', 'snoring', 'laughing', 'mouse click', 'can opening', 'washing machine', 'hen', 'hen', 'hen', 'snoring', 'clapping', 'door wood knock', 'door wood knock', 'hand saw', 'clock alarm', 'can opening', 'door wood knock', 'door wood knock', 'coughing', 'airplane', 'airplane', 'airplane', 'airplane', 'can opening', 'cow', 'cow', 'hand saw', 'hand saw', 'hand saw', 'hand saw', 'hand saw', 'hand saw', 'hand saw', 'laughing', 'clapping', 'water drops', 'water drops', 'cat', 'door wood knock', 'water drops', 'glass breaking', 'chirping birds', 'cat', 'water drops', 'laughing', 'drinking sipping', 'can opening', 'breathing', 'glass breaking', 'glass breaking', 'glass breaking', 'washing machine', 'crow', 'water drops', 'water drops', 'breathing', 'water drops', 'clapping', 'footsteps', 'footsteps', 'footsteps', 'laughing', 'laughing', 'hen', 'hen', 'vacuum cleaner', 'footsteps', 'sheep', 'dog']\"]"
            ]
          },
          "metadata": {},
          "execution_count": 18
        }
      ]
    },
    {
      "cell_type": "code",
      "source": [
        "dataset_for_atlas = dataset['train']['audio'].copy()\n",
        "url_s3 = 'https://static.nomic.ai/penngenai/audio/' # hosted on s3\n",
        "for i in range(len(dataset_for_atlas)):\n",
        "    dataset_for_atlas[i]['label'] = categories[i]\n",
        "    tmp_url = url_s3 + dataset['train']['filename'][i]\n",
        "    dataset_for_atlas[i]['mp3'] = f'''<audio src=\"{tmp_url}\" controls> </audio>'''\n",
        "    dataset_for_atlas[i].pop('path') # path = None ==> Error\n",
        "    dataset_for_atlas[i].pop('array') # array is np.array ==> Error\n",
        "    dataset_for_atlas[i].pop('sampling_rate') # all are same at 44.1 kHz"
      ],
      "metadata": {
        "id": "Z1YzucnMPAmk",
        "colab": {
          "base_uri": "https://localhost:8080/",
          "height": 211
        },
        "outputId": "1b38e98f-08bf-4530-9877-a4a5d42d421c"
      },
      "execution_count": 16,
      "outputs": [
        {
          "output_type": "error",
          "ename": "IndexError",
          "evalue": "list index out of range",
          "traceback": [
            "\u001b[0;31m---------------------------------------------------------------------------\u001b[0m",
            "\u001b[0;31mIndexError\u001b[0m                                Traceback (most recent call last)",
            "\u001b[0;32m<ipython-input-16-366429ed9f1b>\u001b[0m in \u001b[0;36m<cell line: 3>\u001b[0;34m()\u001b[0m\n\u001b[1;32m      2\u001b[0m \u001b[0murl_s3\u001b[0m \u001b[0;34m=\u001b[0m \u001b[0;34m'https://static.nomic.ai/penngenai/audio/'\u001b[0m \u001b[0;31m# hosted on s3\u001b[0m\u001b[0;34m\u001b[0m\u001b[0;34m\u001b[0m\u001b[0m\n\u001b[1;32m      3\u001b[0m \u001b[0;32mfor\u001b[0m \u001b[0mi\u001b[0m \u001b[0;32min\u001b[0m \u001b[0mrange\u001b[0m\u001b[0;34m(\u001b[0m\u001b[0mlen\u001b[0m\u001b[0;34m(\u001b[0m\u001b[0mdataset_for_atlas\u001b[0m\u001b[0;34m)\u001b[0m\u001b[0;34m)\u001b[0m\u001b[0;34m:\u001b[0m\u001b[0;34m\u001b[0m\u001b[0;34m\u001b[0m\u001b[0m\n\u001b[0;32m----> 4\u001b[0;31m     \u001b[0mdataset_for_atlas\u001b[0m\u001b[0;34m[\u001b[0m\u001b[0mi\u001b[0m\u001b[0;34m]\u001b[0m\u001b[0;34m[\u001b[0m\u001b[0;34m'label'\u001b[0m\u001b[0;34m]\u001b[0m \u001b[0;34m=\u001b[0m \u001b[0mcategories\u001b[0m\u001b[0;34m[\u001b[0m\u001b[0mi\u001b[0m\u001b[0;34m]\u001b[0m\u001b[0;34m\u001b[0m\u001b[0;34m\u001b[0m\u001b[0m\n\u001b[0m\u001b[1;32m      5\u001b[0m     \u001b[0mtmp_url\u001b[0m \u001b[0;34m=\u001b[0m \u001b[0murl_s3\u001b[0m \u001b[0;34m+\u001b[0m \u001b[0mdataset\u001b[0m\u001b[0;34m[\u001b[0m\u001b[0;34m'train'\u001b[0m\u001b[0;34m]\u001b[0m\u001b[0;34m[\u001b[0m\u001b[0;34m'filename'\u001b[0m\u001b[0;34m]\u001b[0m\u001b[0;34m[\u001b[0m\u001b[0mi\u001b[0m\u001b[0;34m]\u001b[0m\u001b[0;34m\u001b[0m\u001b[0;34m\u001b[0m\u001b[0m\n\u001b[1;32m      6\u001b[0m     \u001b[0mdataset_for_atlas\u001b[0m\u001b[0;34m[\u001b[0m\u001b[0mi\u001b[0m\u001b[0;34m]\u001b[0m\u001b[0;34m[\u001b[0m\u001b[0;34m'mp3'\u001b[0m\u001b[0;34m]\u001b[0m \u001b[0;34m=\u001b[0m \u001b[0;34mf'''<audio src=\"{tmp_url}\" controls> </audio>'''\u001b[0m\u001b[0;34m\u001b[0m\u001b[0;34m\u001b[0m\u001b[0m\n",
            "\u001b[0;31mIndexError\u001b[0m: list index out of range"
          ]
        }
      ]
    },
    {
      "cell_type": "code",
      "source": [
        "dataset_for_atlas[1]"
      ],
      "metadata": {
        "id": "IkdnBscjq7jv"
      },
      "execution_count": null,
      "outputs": []
    },
    {
      "cell_type": "code",
      "source": [
        "dataset_atlas = atlas.map_data(data= dataset_for_atlas,\n",
        "                         embeddings = audio_embeddings,\n",
        "                         identifier='Environment sound',\n",
        "                         description='Sound from environments',\n",
        "                         topic_model={'topic_label_field': 'label'})"
      ],
      "metadata": {
        "id": "yQ9C3W_6PFhJ"
      },
      "execution_count": null,
      "outputs": []
    },
    {
      "cell_type": "code",
      "source": [
        "# Access your Atlas map and download your embeddings\n",
        "map = dataset_for_atlas.maps[0]\n",
        "\n",
        "projected_embeddings = map.embeddings.projected\n",
        "latent_embeddings = map.embeddings.latent"
      ],
      "metadata": {
        "id": "KYp0MOw6hobW"
      },
      "execution_count": null,
      "outputs": []
    },
    {
      "cell_type": "code",
      "source": [
        "print(projected_embeddings)"
      ],
      "metadata": {
        "id": "VwPQ3feDiRLT"
      },
      "execution_count": null,
      "outputs": []
    },
    {
      "cell_type": "code",
      "source": [
        "# Access your Atlas map\n",
        "map = dataset_for_atlas.maps[0]\n",
        "\n",
        "# Access a pandas DataFrame associating each datum on your map to their topics at each topic depth.\n",
        "topic_df = map.topics.df\n",
        "\n",
        "print(map.topics.df)\n"
      ],
      "metadata": {
        "id": "XrAZ9v7Nieo7"
      },
      "execution_count": null,
      "outputs": []
    },
    {
      "cell_type": "code",
      "source": [
        "# Load map and perform vector search for the five nearest neighbors of datum with id \"my_query_point\"\n",
        "map = dataset_for_atlas.maps[0]\n",
        "\n",
        "with dataset_for_atlas.wait_for_dataset_lock():\n",
        "  neighbors, _ = map.embeddings.vector_search(ids=['my_query_point'], k=5)\n",
        "\n",
        "# Return similar data points\n",
        "similar_datapoints = dataset_for_atlas.get_data(ids=neighbors[0])\n",
        "\n",
        "print(similar_datapoints)"
      ],
      "metadata": {
        "colab": {
          "base_uri": "https://localhost:8080/",
          "height": 211
        },
        "id": "kBC3KNZ5ioca",
        "outputId": "777e6464-587e-4d3a-8094-5a90801a9dbf"
      },
      "execution_count": 17,
      "outputs": [
        {
          "output_type": "error",
          "ename": "AttributeError",
          "evalue": "'list' object has no attribute 'maps'",
          "traceback": [
            "\u001b[0;31m---------------------------------------------------------------------------\u001b[0m",
            "\u001b[0;31mAttributeError\u001b[0m                            Traceback (most recent call last)",
            "\u001b[0;32m<ipython-input-17-d607f6610e83>\u001b[0m in \u001b[0;36m<cell line: 2>\u001b[0;34m()\u001b[0m\n\u001b[1;32m      1\u001b[0m \u001b[0;31m# Load map and perform vector search for the five nearest neighbors of datum with id \"my_query_point\"\u001b[0m\u001b[0;34m\u001b[0m\u001b[0;34m\u001b[0m\u001b[0m\n\u001b[0;32m----> 2\u001b[0;31m \u001b[0mmap\u001b[0m \u001b[0;34m=\u001b[0m \u001b[0mdataset_for_atlas\u001b[0m\u001b[0;34m.\u001b[0m\u001b[0mmaps\u001b[0m\u001b[0;34m[\u001b[0m\u001b[0;36m0\u001b[0m\u001b[0;34m]\u001b[0m\u001b[0;34m\u001b[0m\u001b[0;34m\u001b[0m\u001b[0m\n\u001b[0m\u001b[1;32m      3\u001b[0m \u001b[0;34m\u001b[0m\u001b[0m\n\u001b[1;32m      4\u001b[0m \u001b[0;32mwith\u001b[0m \u001b[0mdataset_for_atlas\u001b[0m\u001b[0;34m.\u001b[0m\u001b[0mwait_for_dataset_lock\u001b[0m\u001b[0;34m(\u001b[0m\u001b[0;34m)\u001b[0m\u001b[0;34m:\u001b[0m\u001b[0;34m\u001b[0m\u001b[0;34m\u001b[0m\u001b[0m\n\u001b[1;32m      5\u001b[0m   \u001b[0mneighbors\u001b[0m\u001b[0;34m,\u001b[0m \u001b[0m_\u001b[0m \u001b[0;34m=\u001b[0m \u001b[0mmap\u001b[0m\u001b[0;34m.\u001b[0m\u001b[0membeddings\u001b[0m\u001b[0;34m.\u001b[0m\u001b[0mvector_search\u001b[0m\u001b[0;34m(\u001b[0m\u001b[0mids\u001b[0m\u001b[0;34m=\u001b[0m\u001b[0;34m[\u001b[0m\u001b[0;34m'my_query_point'\u001b[0m\u001b[0;34m]\u001b[0m\u001b[0;34m,\u001b[0m \u001b[0mk\u001b[0m\u001b[0;34m=\u001b[0m\u001b[0;36m5\u001b[0m\u001b[0;34m)\u001b[0m\u001b[0;34m\u001b[0m\u001b[0;34m\u001b[0m\u001b[0m\n",
            "\u001b[0;31mAttributeError\u001b[0m: 'list' object has no attribute 'maps'"
          ]
        }
      ]
    },
    {
      "cell_type": "markdown",
      "source": [
        "## Map for Common Language dataset"
      ],
      "metadata": {
        "id": "1Fo-tiQ3IIyK"
      }
    },
    {
      "cell_type": "code",
      "source": [
        "# get the embeddings to be in array\n",
        "embedding_np_array = np.array(embed_cl_arr).squeeze()\n",
        "embedding_np_array.shape"
      ],
      "metadata": {
        "colab": {
          "base_uri": "https://localhost:8080/"
        },
        "id": "P0GjNSOiRZDr",
        "outputId": "94659cc9-2cb0-4f95-e8d3-cd18371909da"
      },
      "execution_count": null,
      "outputs": [
        {
          "output_type": "execute_result",
          "data": {
            "text/plain": [
              "(25, 512)"
            ]
          },
          "metadata": {},
          "execution_count": 111
        }
      ]
    },
    {
      "cell_type": "code",
      "source": [
        "embed_cl_df = embed_cl_df.to_dict('records')"
      ],
      "metadata": {
        "colab": {
          "base_uri": "https://localhost:8080/"
        },
        "id": "TfYjG_42Ya3K",
        "outputId": "9b1a0ebc-08b8-4fe0-9221-a57e2df0fee3"
      },
      "execution_count": null,
      "outputs": [
        {
          "output_type": "execute_result",
          "data": {
            "text/plain": [
              "[{'client_id': 'عليك أن تفي بوعدك.',\n",
              "  'mp3': '<audio src=\"https://drive.google.com/file/d/1KuBoKtof94dYq97s1Aya2JwzAwSYxJmn/view?usp=drive_link\" type=\"audio/wav\" controls autoplay> </audio>',\n",
              "  'age': 'twenties',\n",
              "  'gender': 'male',\n",
              "  'language': 'Arabic'},\n",
              " {'client_id': 'يشبه أباه.',\n",
              "  'mp3': '<audio src=\"https://drive.google.com/file/d/1KuBoKtof94dYq97s1Aya2JwzAwSYxJmn/view?usp=drive_link\" type=\"audio/wav\" controls autoplay> </audio>',\n",
              "  'age': 'twenties',\n",
              "  'gender': 'female',\n",
              "  'language': 'Arabic'},\n",
              " {'client_id': 'لن يُغَيِّرَ ذلك شيئًا.',\n",
              "  'mp3': '<audio src=\"https://drive.google.com/file/d/1KuBoKtof94dYq97s1Aya2JwzAwSYxJmn/view?usp=drive_link\" type=\"audio/wav\" controls autoplay> </audio>',\n",
              "  'age': 'fourties',\n",
              "  'gender': 'male',\n",
              "  'language': 'Arabic'},\n",
              " {'client_id': 'كيف حال الجميع ؟',\n",
              "  'mp3': '<audio src=\"https://drive.google.com/file/d/1KuBoKtof94dYq97s1Aya2JwzAwSYxJmn/view?usp=drive_link\" type=\"audio/wav\" controls autoplay> </audio>',\n",
              "  'age': 'not_defined',\n",
              "  'gender': 'not_defined',\n",
              "  'language': 'Arabic'},\n",
              " {'client_id': 'أتعرف كيف تلعب الشطرنج ؟',\n",
              "  'mp3': '<audio src=\"https://drive.google.com/file/d/1KuBoKtof94dYq97s1Aya2JwzAwSYxJmn/view?usp=drive_link\" type=\"audio/wav\" controls autoplay> </audio>',\n",
              "  'age': 'not_defined',\n",
              "  'gender': 'not_defined',\n",
              "  'language': 'Arabic'},\n",
              " {'client_id': 'أريد أن آكل في مطعم الليلة.',\n",
              "  'mp3': '<audio src=\"https://drive.google.com/file/d/1KuBoKtof94dYq97s1Aya2JwzAwSYxJmn/view?usp=drive_link\" type=\"audio/wav\" controls autoplay> </audio>',\n",
              "  'age': 'thirties',\n",
              "  'gender': 'female',\n",
              "  'language': 'Arabic'},\n",
              " {'client_id': 'لقد مضت أربعون سنة.',\n",
              "  'mp3': '<audio src=\"https://drive.google.com/file/d/1KuBoKtof94dYq97s1Aya2JwzAwSYxJmn/view?usp=drive_link\" type=\"audio/wav\" controls autoplay> </audio>',\n",
              "  'age': 'twenties',\n",
              "  'gender': 'male',\n",
              "  'language': 'Arabic'},\n",
              " {'client_id': 'ماذا تطبخ ؟',\n",
              "  'mp3': '<audio src=\"https://drive.google.com/file/d/1KuBoKtof94dYq97s1Aya2JwzAwSYxJmn/view?usp=drive_link\" type=\"audio/wav\" controls autoplay> </audio>',\n",
              "  'age': 'thirties',\n",
              "  'gender': 'female',\n",
              "  'language': 'Arabic'},\n",
              " {'client_id': 'في وقت واحد سيتم إنشاء عشرات من دول الكومنولث التعاونية',\n",
              "  'mp3': '<audio src=\"https://drive.google.com/file/d/1KuBoKtof94dYq97s1Aya2JwzAwSYxJmn/view?usp=drive_link\" type=\"audio/wav\" controls autoplay> </audio>',\n",
              "  'age': 'not_defined',\n",
              "  'gender': 'not_defined',\n",
              "  'language': 'Arabic'},\n",
              " {'client_id': 'هذه فكرة جيدة!',\n",
              "  'mp3': '<audio src=\"https://drive.google.com/file/d/1KuBoKtof94dYq97s1Aya2JwzAwSYxJmn/view?usp=drive_link\" type=\"audio/wav\" controls autoplay> </audio>',\n",
              "  'age': 'not_defined',\n",
              "  'gender': 'not_defined',\n",
              "  'language': 'Arabic'},\n",
              " {'client_id': 'هل تحبان بعضكما البعض بشدة ؟',\n",
              "  'mp3': '<audio src=\"https://drive.google.com/file/d/1KuBoKtof94dYq97s1Aya2JwzAwSYxJmn/view?usp=drive_link\" type=\"audio/wav\" controls autoplay> </audio>',\n",
              "  'age': 'not_defined',\n",
              "  'gender': 'not_defined',\n",
              "  'language': 'Arabic'},\n",
              " {'client_id': 'انتقد بورك نفسه بسبب الابتسامة',\n",
              "  'mp3': '<audio src=\"https://drive.google.com/file/d/1KuBoKtof94dYq97s1Aya2JwzAwSYxJmn/view?usp=drive_link\" type=\"audio/wav\" controls autoplay> </audio>',\n",
              "  'age': 'thirties',\n",
              "  'gender': 'male',\n",
              "  'language': 'Arabic'},\n",
              " {'client_id': 'جلست بجانبي.',\n",
              "  'mp3': '<audio src=\"https://drive.google.com/file/d/1KuBoKtof94dYq97s1Aya2JwzAwSYxJmn/view?usp=drive_link\" type=\"audio/wav\" controls autoplay> </audio>',\n",
              "  'age': 'not_defined',\n",
              "  'gender': 'not_defined',\n",
              "  'language': 'Arabic'},\n",
              " {'client_id': 'مهما قلت عنه ، اظن انه صادق.',\n",
              "  'mp3': '<audio src=\"https://drive.google.com/file/d/1KuBoKtof94dYq97s1Aya2JwzAwSYxJmn/view?usp=drive_link\" type=\"audio/wav\" controls autoplay> </audio>',\n",
              "  'age': 'fourties',\n",
              "  'gender': 'male',\n",
              "  'language': 'Arabic'},\n",
              " {'client_id': 'ما أسهل أن يكتسب المرء عادات سيئة!',\n",
              "  'mp3': '<audio src=\"https://drive.google.com/file/d/1KuBoKtof94dYq97s1Aya2JwzAwSYxJmn/view?usp=drive_link\" type=\"audio/wav\" controls autoplay> </audio>',\n",
              "  'age': 'thirties',\n",
              "  'gender': 'male',\n",
              "  'language': 'Arabic'},\n",
              " {'client_id': 'سيسعدني أن أساعدك في أي وقت.',\n",
              "  'mp3': '<audio src=\"https://drive.google.com/file/d/1KuBoKtof94dYq97s1Aya2JwzAwSYxJmn/view?usp=drive_link\" type=\"audio/wav\" controls autoplay> </audio>',\n",
              "  'age': 'not_defined',\n",
              "  'gender': 'not_defined',\n",
              "  'language': 'Arabic'},\n",
              " {'client_id': 'متى وصلت ؟',\n",
              "  'mp3': '<audio src=\"https://drive.google.com/file/d/1KuBoKtof94dYq97s1Aya2JwzAwSYxJmn/view?usp=drive_link\" type=\"audio/wav\" controls autoplay> </audio>',\n",
              "  'age': 'not_defined',\n",
              "  'gender': 'not_defined',\n",
              "  'language': 'Arabic'},\n",
              " {'client_id': 'من بحث وجد.',\n",
              "  'mp3': '<audio src=\"https://drive.google.com/file/d/1KuBoKtof94dYq97s1Aya2JwzAwSYxJmn/view?usp=drive_link\" type=\"audio/wav\" controls autoplay> </audio>',\n",
              "  'age': 'thirties',\n",
              "  'gender': 'male',\n",
              "  'language': 'Arabic'},\n",
              " {'client_id': '.في كندا لا يمكنك شرب الكحول حتى تبلغ سن العشرين',\n",
              "  'mp3': '<audio src=\"https://drive.google.com/file/d/1KuBoKtof94dYq97s1Aya2JwzAwSYxJmn/view?usp=drive_link\" type=\"audio/wav\" controls autoplay> </audio>',\n",
              "  'age': 'twenties',\n",
              "  'gender': 'female',\n",
              "  'language': 'Arabic'},\n",
              " {'client_id': 'كعكتك شهية.',\n",
              "  'mp3': '<audio src=\"https://drive.google.com/file/d/1KuBoKtof94dYq97s1Aya2JwzAwSYxJmn/view?usp=drive_link\" type=\"audio/wav\" controls autoplay> </audio>',\n",
              "  'age': 'not_defined',\n",
              "  'gender': 'not_defined',\n",
              "  'language': 'Arabic'},\n",
              " {'client_id': 'لكل داء دواء',\n",
              "  'mp3': '<audio src=\"https://drive.google.com/file/d/1KuBoKtof94dYq97s1Aya2JwzAwSYxJmn/view?usp=drive_link\" type=\"audio/wav\" controls autoplay> </audio>',\n",
              "  'age': 'twenties',\n",
              "  'gender': 'male',\n",
              "  'language': 'Arabic'},\n",
              " {'client_id': 'إنا نعيش في عصر الذّرّة.',\n",
              "  'mp3': '<audio src=\"https://drive.google.com/file/d/1KuBoKtof94dYq97s1Aya2JwzAwSYxJmn/view?usp=drive_link\" type=\"audio/wav\" controls autoplay> </audio>',\n",
              "  'age': 'not_defined',\n",
              "  'gender': 'not_defined',\n",
              "  'language': 'Arabic'},\n",
              " {'client_id': 'أنا مهندس حاسب آلي.',\n",
              "  'mp3': '<audio src=\"https://drive.google.com/file/d/1KuBoKtof94dYq97s1Aya2JwzAwSYxJmn/view?usp=drive_link\" type=\"audio/wav\" controls autoplay> </audio>',\n",
              "  'age': 'not_defined',\n",
              "  'gender': 'not_defined',\n",
              "  'language': 'Arabic'},\n",
              " {'client_id': 'ملأت كيسها بالتفاح.',\n",
              "  'mp3': '<audio src=\"https://drive.google.com/file/d/1KuBoKtof94dYq97s1Aya2JwzAwSYxJmn/view?usp=drive_link\" type=\"audio/wav\" controls autoplay> </audio>',\n",
              "  'age': 'not_defined',\n",
              "  'gender': 'not_defined',\n",
              "  'language': 'Arabic'},\n",
              " {'client_id': 'أيمكنك رؤية الفرق ؟',\n",
              "  'mp3': '<audio src=\"https://drive.google.com/file/d/1KuBoKtof94dYq97s1Aya2JwzAwSYxJmn/view?usp=drive_link\" type=\"audio/wav\" controls autoplay> </audio>',\n",
              "  'age': 'twenties',\n",
              "  'gender': 'male',\n",
              "  'language': 'Arabic'}]"
            ]
          },
          "metadata": {},
          "execution_count": 112
        }
      ]
    },
    {
      "cell_type": "code",
      "source": [
        "dataset_atlas_cl = atlas.map_data(data=embed_cl_df,\n",
        "                         embeddings = embedding_np_array,\n",
        "                         identifier='Common Language',\n",
        "                         description='Common Language Dataset',\n",
        "                         topic_model={'topic_label_field': 'language'})"
      ],
      "metadata": {
        "colab": {
          "base_uri": "https://localhost:8080/"
        },
        "id": "L9GHS0oqIRKV",
        "outputId": "bff1d47b-7c9f-4936-dc56-35d682a3e38f"
      },
      "execution_count": null,
      "outputs": [
        {
          "output_type": "stream",
          "name": "stderr",
          "text": [
            "\u001b[32m2024-02-17 20:48:41.300\u001b[0m | \u001b[33m\u001b[1mWARNING \u001b[0m | \u001b[36mnomic.atlas\u001b[0m:\u001b[36mmap_data\u001b[0m:\u001b[36m96\u001b[0m - \u001b[33m\u001b[1mAn ID field was not specified in your data so one was generated for you in insertion order.\u001b[0m\n",
            "\u001b[32m2024-02-17 20:48:43.973\u001b[0m | \u001b[1mINFO    \u001b[0m | \u001b[36mnomic.dataset\u001b[0m:\u001b[36m_create_project\u001b[0m:\u001b[36m861\u001b[0m - \u001b[1mCreating dataset `common-language-12`\u001b[0m\n",
            "\u001b[32m2024-02-17 20:48:44.351\u001b[0m | \u001b[1mINFO    \u001b[0m | \u001b[36mnomic.atlas\u001b[0m:\u001b[36mmap_data\u001b[0m:\u001b[36m108\u001b[0m - \u001b[1mUploading data to Atlas.\u001b[0m\n",
            "1it [00:00,  1.49it/s]\n",
            "\u001b[32m2024-02-17 20:48:45.038\u001b[0m | \u001b[1mINFO    \u001b[0m | \u001b[36mnomic.dataset\u001b[0m:\u001b[36m_add_data\u001b[0m:\u001b[36m1529\u001b[0m - \u001b[1mUpload succeeded.\u001b[0m\n",
            "\u001b[32m2024-02-17 20:48:45.043\u001b[0m | \u001b[1mINFO    \u001b[0m | \u001b[36mnomic.atlas\u001b[0m:\u001b[36mmap_data\u001b[0m:\u001b[36m123\u001b[0m - \u001b[1m`tpremrud/common-language-12`: Data upload succeeded to dataset`\u001b[0m\n",
            "\u001b[32m2024-02-17 20:48:46.460\u001b[0m | \u001b[1mINFO    \u001b[0m | \u001b[36mnomic.dataset\u001b[0m:\u001b[36mcreate_index\u001b[0m:\u001b[36m1238\u001b[0m - \u001b[1mCreated map `Common Language` in dataset `tpremrud/common-language-12`: https://atlas.nomic.ai/data/tpremrud/common-language-12/map\u001b[0m\n"
          ]
        }
      ]
    },
    {
      "cell_type": "markdown",
      "source": [
        "# Nomic Atlas Example: News_dataset"
      ],
      "metadata": {
        "id": "jlMl-9dZsgUH"
      }
    },
    {
      "cell_type": "code",
      "source": [
        "import pandas\n",
        "news_articles = pandas.read_csv('https://raw.githubusercontent.com/nomic-ai/maps/main/data/ag_news_25k.csv').to_dict('records')\n",
        "\n",
        "# project = atlas.map_data(data=news_articles,\n",
        "#                          indexed_field='text',\n",
        "#                          id_field='id',\n",
        "#                          identifier='News Articles 25k',\n",
        "#                          description='25k News articles.',\n",
        "#                          topic_model={'topic-label-field': [news_articles[i]['label'] for i in range(len(news_articles))]})"
      ],
      "metadata": {
        "id": "3JBym7P1sjzB"
      },
      "execution_count": null,
      "outputs": []
    }
  ]
}